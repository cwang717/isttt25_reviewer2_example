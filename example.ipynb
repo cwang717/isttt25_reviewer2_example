{
 "cells": [
  {
   "attachments": {},
   "cell_type": "markdown",
   "metadata": {},
   "source": [
    "## Link performance functions used in the counterexample"
   ]
  },
  {
   "cell_type": "code",
   "execution_count": 1,
   "metadata": {},
   "outputs": [],
   "source": [
    "import numpy as np\n",
    "\n",
    "def tt_0(x: float) -> float:\n",
    "    return x*x\n",
    "\n",
    "def tt_1(x: float) -> float:\n",
    "    return 1"
   ]
  },
  {
   "attachments": {},
   "cell_type": "markdown",
   "metadata": {},
   "source": [
    "## Exact calculation of expected link travel times\n",
    "\n",
    "In the following function, basically we iterate through all $2^N$ route choice combinations, calculate the probability of each scenario using the given user preferences towards the first route $p0$, and calculate the weighted averages of the travel times of the two links/routes of all these $2^N$ scenarios."
   ]
  },
  {
   "cell_type": "code",
   "execution_count": 2,
   "metadata": {},
   "outputs": [],
   "source": [
    "def exact_calc(p0: np.ndarray, debug=False) -> (np.ndarray, np.ndarray):\n",
    "    N = len(p0)\n",
    "    p1 = 1 - p0\n",
    "\n",
    "    total_expected = np.array([0., 0.])\n",
    "\n",
    "    for i in range(2**N):\n",
    "        # convert int i to N-bit representation\n",
    "        choices = convert_to_n_choice(int(i), N)\n",
    "        p = 1.\n",
    "        for j in range(N):\n",
    "            p = p * (p1[j] if choices[j] else p0[j])\n",
    "        t1 = tt_1(float(sum(choices)))\n",
    "        t0 = tt_0(float(N - sum(choices)))\n",
    "        total_expected[0] += p * t0\n",
    "        total_expected[1] += p * t1\n",
    "    if (debug):\n",
    "        print(\"Exact calc:\")\n",
    "        print(total_expected)\n",
    "    return total_expected\n",
    "\n",
    "def convert_to_n_choice(i: int, N: int) -> np.ndarray:\n",
    "    binary = bin(i)[2:]  # convert i to binary string\n",
    "    binary = binary.zfill(N)  # pad with leading zeros to make it N bits long\n",
    "    binary_array = np.array(list(binary), dtype=int)  # convert binary string to numpy array of integers\n",
    "    return binary_array"
   ]
  },
  {
   "attachments": {},
   "cell_type": "markdown",
   "metadata": {},
   "source": [
    "## Approximated calculation of expected link travel times\n",
    "\n",
    "In the following function, we calculate the expected flow on each link/route, then use the expected flows in the link performance functions to approxiamte the expected link travel times."
   ]
  },
  {
   "cell_type": "code",
   "execution_count": 3,
   "metadata": {},
   "outputs": [],
   "source": [
    "def approx_calc(p0: np.ndarray, debug=False) -> np.ndarray:\n",
    "    N = len(p0)\n",
    "    p1 = 1 - p0\n",
    "\n",
    "    total_expected = np.array([tt_0(sum(p0)), tt_1(sum(p1))])\n",
    "    if (debug):\n",
    "        print(\"Approx calc:\")\n",
    "        print(total_expected)\n",
    "    return total_expected"
   ]
  },
  {
   "attachments": {},
   "cell_type": "markdown",
   "metadata": {},
   "source": [
    "## Run repeated experiments to calculate the average percentage error of the approximate calculations\n",
    "\n",
    "By default, repeat 20 times with random $p0$."
   ]
  },
  {
   "cell_type": "code",
   "execution_count": 4,
   "metadata": {},
   "outputs": [],
   "source": [
    "def repeat_exp(N: int, repeat_num: int=20):\n",
    "    percent_errs = np.zeros((repeat_num, 2))\n",
    "    for run in range(repeat_num):\n",
    "        p0 = np.random.random(N)\n",
    "\n",
    "        exact_expected = exact_calc(p0)\n",
    "        approx_expected = approx_calc(p0)\n",
    "\n",
    "        percent_errs[run] = [abs(approx_expected[i] - exact_expected[i])/exact_expected[i]*100 for i in range(2)]\n",
    "\n",
    "    average_percent_err = np.average(percent_errs, axis=0)\n",
    "    \n",
    "    print(f\"Average percentage errors with {N} Users: {average_percent_err[0]:.2f}% and {average_percent_err[1]:.2f}%\")\n",
    "    \n",
    "    return average_percent_err[0]"
   ]
  },
  {
   "attachments": {},
   "cell_type": "markdown",
   "metadata": {},
   "source": [
    "## Results"
   ]
  },
  {
   "cell_type": "code",
   "execution_count": 5,
   "metadata": {},
   "outputs": [
    {
     "name": "stdout",
     "output_type": "stream",
     "text": [
      "Average percentage errors with 2 Users: 32.01% and 0.00%\n",
      "Average percentage errors with 3 Users: 19.63% and 0.00%\n",
      "Average percentage errors with 4 Users: 16.53% and 0.00%\n",
      "Average percentage errors with 5 Users: 15.18% and 0.00%\n",
      "Average percentage errors with 6 Users: 12.45% and 0.00%\n",
      "Average percentage errors with 7 Users: 9.76% and 0.00%\n",
      "Average percentage errors with 8 Users: 8.19% and 0.00%\n",
      "Average percentage errors with 9 Users: 8.93% and 0.00%\n",
      "Average percentage errors with 10 Users: 6.88% and 0.00%\n",
      "Average percentage errors with 11 Users: 7.67% and 0.00%\n",
      "Average percentage errors with 12 Users: 5.30% and 0.00%\n",
      "Average percentage errors with 13 Users: 5.19% and 0.00%\n",
      "Average percentage errors with 14 Users: 4.79% and 0.00%\n",
      "Average percentage errors with 15 Users: 4.39% and 0.00%\n",
      "Average percentage errors with 16 Users: 4.50% and 0.00%\n",
      "Average percentage errors with 17 Users: 4.42% and 0.00%\n",
      "Average percentage errors with 18 Users: 4.26% and 0.00%\n"
     ]
    },
    {
     "data": {
      "image/png": "[encoded data removed]",
      "text/plain": [
       "<Figure size 640x480 with 1 Axes>"
      ]
     },
     "metadata": {},
     "output_type": "display_data"
    }
   ],
   "source": [
    "import matplotlib.pyplot as plt\n",
    "MAX_USERS = 18\n",
    "x = range(2, MAX_USERS+1)\n",
    "y = [repeat_exp(int(i)) for i in x]\n",
    "plt.scatter(x, y, marker='x')\n",
    "plt.xlim(1, MAX_USERS+1)\n",
    "plt.ylim(0, max(y)+5)\n",
    "plt.xlabel(\"# of Users\")\n",
    "plt.ylabel(\"Average percentage error (%)\")\n",
    "plt.title(\"Average percentage errors of the first link/route\")\n",
    "plt.show()"
   ]
  }
 ],
 "metadata": {
  "kernelspec": {
   "display_name": "py3",
   "language": "python",
   "name": "python3"
  },
  "language_info": {
   "codemirror_mode": {
    "name": "ipython",
    "version": 3
   },
   "file_extension": ".py",
   "mimetype": "text/x-python",
   "name": "python",
   "nbconvert_exporter": "python",
   "pygments_lexer": "ipython3",
   "version": "3.11.5"
  },
  "orig_nbformat": 4
 },
 "nbformat": 4,
 "nbformat_minor": 2
}
